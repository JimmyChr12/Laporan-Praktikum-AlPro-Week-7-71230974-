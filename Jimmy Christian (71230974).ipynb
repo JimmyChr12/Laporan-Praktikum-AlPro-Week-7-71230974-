{
 "cells": [
  {
   "cell_type": "code",
   "execution_count": 1,
   "id": "226160f4",
   "metadata": {},
   "outputs": [
    {
     "name": "stdout",
     "output_type": "stream",
     "text": [
      "Anagram\n",
      "Anagram\n",
      "Anagram\n",
      "Anagram\n"
     ]
    }
   ],
   "source": [
    "def anagram(kata1, kata2):\n",
    "    lower_kata1 = kata1.lower()\n",
    "    lower_kata2 = kata2.lower()\n",
    "    for i in range (len(lower_kata1)+1):\n",
    "        if len(lower_kata1) == len(lower_kata2):\n",
    "            a  = lower_kata1[i] \n",
    "            if a in lower_kata2:\n",
    "                return (\"Anagram\")\n",
    "            else:\n",
    "                return (\"Bukan anagram\")\n",
    "        else: \n",
    "            return (\"Bukan anagram\")\n",
    "        \n",
    "print(anagram(\"mata\", \"atma\"))\n",
    "print(anagram(\"mata\", \"maat\"))\n",
    "print(anagram(\"mata\", \"taam\"))\n",
    "print(anagram(\"mata\", \"tama\"))"
   ]
  },
  {
   "cell_type": "code",
   "execution_count": 5,
   "id": "07b48393",
   "metadata": {},
   "outputs": [
    {
     "name": "stdout",
     "output_type": "stream",
     "text": [
      "makan ada 3 buah\n"
     ]
    }
   ],
   "source": [
    "def cari_kata (kalimat, cari):\n",
    "    lower_kalimat = kalimat.lower()\n",
    "    lower_cari = cari.lower()\n",
    "    jumlah_huruf_cari = lower_kalimat.count(lower_cari)\n",
    "    return (cari + \" ada \"+ str(jumlah_huruf_cari) + \" buah\")\n",
    "\n",
    "print(cari_kata(\"Saya mau makan. Makan itu wajib. Mau siang atau malam saya wajib makan\", \"makan\"))"
   ]
  },
  {
   "cell_type": "code",
   "execution_count": 8,
   "id": "aaf5775b",
   "metadata": {},
   "outputs": [
    {
     "name": "stdout",
     "output_type": "stream",
     "text": [
      "\"Kalimat ini belum rapi\"\n",
      "\"saya tidak suka memancing ikan\"\n"
     ]
    }
   ],
   "source": [
    "def hapus_spasi(kalimat):\n",
    "    split_kalimat = kalimat.split()\n",
    "    kalimat_akhir = \" \".join(split_kalimat)\n",
    "    return  '\"' + kalimat_akhir + '\"'\n",
    "\n",
    "print(hapus_spasi(\"             Kalimat    ini    belum rapi       \"))\n",
    "print(hapus_spasi(\"saya tidak suka memancing ikan \"))"
   ]
  },
  {
   "cell_type": "code",
   "execution_count": 4,
   "id": "36978ef9",
   "metadata": {},
   "outputs": [
    {
     "name": "stdout",
     "output_type": "stream",
     "text": [
      "Masukkan kalimat: red snakes and a black frog in the pool\n",
      "terpendek: a,\n",
      "terpanjang: snakes\n"
     ]
    }
   ],
   "source": [
    "def kata_pendek_panjang():\n",
    "    kalimat = input(\"Masukkan kalimat: \")\n",
    "    split_kalimat = kalimat.split(\" \")\n",
    "    terpendek = split_kalimat[0]\n",
    "    terpanjang = \"\"\n",
    "    for i in split_kalimat:\n",
    "        if len(i) > len(terpanjang):\n",
    "            terpanjang = i\n",
    "        elif len(i) < len(terpendek):\n",
    "            terpendek = i\n",
    "    return \"terpendek: \" + terpendek + \",\" + \"\\nterpanjang: \" +terpanjang\n",
    "print (kata_pendek_panjang())"
   ]
  }
 ],
 "metadata": {
  "kernelspec": {
   "display_name": "Python 3 (ipykernel)",
   "language": "python",
   "name": "python3"
  },
  "language_info": {
   "codemirror_mode": {
    "name": "ipython",
    "version": 3
   },
   "file_extension": ".py",
   "mimetype": "text/x-python",
   "name": "python",
   "nbconvert_exporter": "python",
   "pygments_lexer": "ipython3",
   "version": "3.11.5"
  }
 },
 "nbformat": 4,
 "nbformat_minor": 5
}
